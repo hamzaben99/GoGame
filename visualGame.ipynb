{
 "cells": [
  {
   "cell_type": "markdown",
   "metadata": {},
   "source": [
    "## Adaptation de namedGame à Jupyter\n",
    "\n",
    "Vous pouvez utiliser cette feuille pour visualiser un match.\n",
    "\n",
    "Pour charger vos joueurs, il faut changer leurs noms dans 'classNames' (ligne 13), comme dans 'namedGame.py'.\n",
    "\n",
    "Vous pouvez décommenter les lignes utilisant le librairie cairosvg pour générer un gif animé de votre match si vous le souhaitez (puis utilisez la ligne de commande donnée en commentaire pour transformer les PNG en GIF)."
   ]
  },
  {
   "cell_type": "code",
   "execution_count": 1,
   "metadata": {},
   "outputs": [
    {
     "output_type": "stream",
     "name": "stdout",
     "text": [
      "[[[  0   0   0   0   0   0   0   0   0]\n  [  0   0   0   0   0   0   0   0   0]\n  [  0   0   0   6  27  33   4   0   0]\n  [  0   0   7   8  18  27   5   0   0]\n  [  0   0   3  10 194  43   0   0   0]\n  [  0   0   2  24  16  24  17   0   0]\n  [  0   0   0  30   4   8   1   0   0]\n  [  0   0   0   0   0   0   0   0   0]\n  [  0   0   0   0   0   0   0   0   0]]\n\n [[  0   0   0   0   0   0   0   0   0]\n  [  0   0   0   0   0   0   0   0   0]\n  [  0   0   5   4  17  16   3   0   0]\n  [  0   0  11  30  27  18   7   0   0]\n  [  0   0  30  28   4  10  75   0   0]\n  [  0   0  11  50  36  16  32   0   0]\n  [  0   0   6  19  36  16   4   0   0]\n  [  0   0   0   0   0   0   0   0   0]\n  [  0   0   0   0   0   0   0   0   0]]\n\n [[  0   0   0   0   0   0   0   0   0]\n  [  0   0   0   0   0   0   0   0   0]\n  [  0   0   2  14  19  11   3   0   0]\n  [  0   0  23  30  29  29  27   0   0]\n  [  0   0  61  33  12  18  35   0   0]\n  [  0   0  17  39  27  17  21   0   0]\n  [  0   0   2  16   9  17   0   0   0]\n  [  0   0   0   0   0   0   0   0   0]\n  [  0   0   0   0   0   0   0   0   0]]\n\n [[  0   0   0   0   0   0   0   0   0]\n  [  0   0   0   0   4   0   0   0   0]\n  [  0   0   3  24  26  27   8   0   0]\n  [  0   1  21  17  24   8  16   2   0]\n  [  0  24  41  12  13   9  29   8   0]\n  [  0   2  25  18  10  18  15   1   0]\n  [  0   0   5  19  33  35  12   0   0]\n  [  0   0   0   0   1   0   0   0   0]\n  [  0   0   0   0   0   0   0   0   0]]\n\n [[  0   0   0   0   0   0   0   0   0]\n  [  0   0   0   3   2   0   0   0   0]\n  [  0   0   5  16  22  19  15   0   0]\n  [  0  12  28  25  17  21  38   3   0]\n  [  0   4  11  21  16  20  10   0   0]\n  [  0  12  24  11  15  11  17   5   0]\n  [  0   0  10  35  21  23  13   0   0]\n  [  0   0   0   1   3   2   0   0   0]\n  [  0   0   0   0   0   0   0   0   0]]\n\n [[  0   0   0   0   0   0   0   0   0]\n  [  0   0   0   2   3   5   0   0   0]\n  [  0   0  29   6  16  17  15   0   0]\n  [  0   1  24  22   9  15  13   8   0]\n  [  0   3  25   9  18   7  19   4   0]\n  [  0   2  23  22  15  15  24   5   0]\n  [  0   0  34  20  26  17  15   1   0]\n  [  0   0   1  13   5   2   1   0   0]\n  [  0   0   0   0   0   0   0   0   0]]\n\n [[  0   0   0   0   0   0   0   0   0]\n  [  0   0   0   4   5   4   3   0   0]\n  [  0   1  12  13  13  15  13   3   0]\n  [  0   5  19  20  15  12  16   5   0]\n  [  0   2  16  36  25  19  10   3   0]\n  [  0   9  16  20   9  30  17   5   0]\n  [  0   0  16  25  17  23  10   2   0]\n  [  0   0   3   8   4   6   2   0   0]\n  [  0   0   0   0   0   0   0   0   0]]\n\n [[  0   0   0   0   0   0   0   0   0]\n  [  0   0   0   4   6   2   1   1   0]\n  [  0   3  23  21   9  26  29   6   0]\n  [  0   6  24   7   5  17  16   9   0]\n  [  0   9  10  10   8  15  15  10   0]\n  [  0   7  33  16  13  10  11   8   0]\n  [  0   3  15  19  18  15  19   5   0]\n  [  0   2   3   4  10   8   0   0   0]\n  [  0   0   0   0   0   0   0   0   0]]]\nThe game is setup with l7wat playing BLACKS against Random Player playing WHITE\nEngines loaded. Ready to go.\n"
     ]
    }
   ],
   "source": [
    "\n",
    "import Goban \n",
    "import importlib\n",
    "import time\n",
    "from io import StringIO\n",
    "import sys\n",
    "from IPython.display import display, HTML, clear_output\n",
    "\n",
    "# Uncomment for saving the successive SVG to PNG\n",
    "# from cairosvg import svg2png\n",
    "\n",
    "# Define here the players to load\n",
    "classNames = ['myPlayer', 'houssamPlayer']\n",
    "\n",
    "b = Goban.Board()\n",
    "\n",
    "players = []\n",
    "player1class = importlib.import_module(classNames[0])\n",
    "player1 = player1class.myPlayer()\n",
    "player1.newGame(Goban.Board._BLACK)\n",
    "players.append(player1)\n",
    "\n",
    "player2class = importlib.import_module(classNames[1])\n",
    "player2 = player2class.myPlayer()\n",
    "player2.newGame(Goban.Board._WHITE)\n",
    "players.append(player2)\n",
    "\n",
    "totalTime = [0,0] # total real time for each player\n",
    "nextplayer = 0\n",
    "nextplayercolor = Goban.Board._BLACK\n",
    "nbmoves = 1\n",
    "\n",
    "outputs = [\"\",\"\"]\n",
    "sysstdout= sys.stdout\n",
    "stringio = StringIO()\n",
    "wrongmovefrom = 0\n",
    "\n",
    "print(\"The game is setup with \" + player1.getPlayerName() + \" playing BLACKS against \" + player2.getPlayerName() + \" playing WHITE\")\n",
    "print(\"Engines loaded. Ready to go.\")\n"
   ]
  },
  {
   "cell_type": "code",
   "execution_count": 2,
   "metadata": {
    "tags": []
   },
   "outputs": [
    {
     "output_type": "display_data",
     "data": {
      "text/plain": "<IPython.core.display.HTML object>",
      "text/html": "<svg height=\"380\"  width=\"380\" > <svg height=\"20\" width=\"380\"><text x=\"35\" y=\"18\" font-size=\"24\" font-color=\"black\">A</text><text x=\"75\" y=\"18\" font-size=\"24\" font-color=\"black\">B</text><text x=\"115\" y=\"18\" font-size=\"24\" font-color=\"black\">C</text><text x=\"155\" y=\"18\" font-size=\"24\" font-color=\"black\">D</text><text x=\"195\" y=\"18\" font-size=\"24\" font-color=\"black\">E</text><text x=\"235\" y=\"18\" font-size=\"24\" font-color=\"black\">F</text><text x=\"275\" y=\"18\" font-size=\"24\" font-color=\"black\">G</text><text x=\"315\" y=\"18\" font-size=\"24\" font-color=\"black\">H</text><text x=\"355\" y=\"18\" font-size=\"24\" font-color=\"black\">J</text></svg><svg width=\"20\" height=\"380\"><text y=\"47\" x=\"0\" font-size=\"24\" font-color=\"black\">9</text><text y=\"87\" x=\"0\" font-size=\"24\" font-color=\"black\">8</text><text y=\"127\" x=\"0\" font-size=\"24\" font-color=\"black\">7</text><text y=\"167\" x=\"0\" font-size=\"24\" font-color=\"black\">6</text><text y=\"207\" x=\"0\" font-size=\"24\" font-color=\"black\">5</text><text y=\"247\" x=\"0\" font-size=\"24\" font-color=\"black\">4</text><text y=\"287\" x=\"0\" font-size=\"24\" font-color=\"black\">3</text><text y=\"327\" x=\"0\" font-size=\"24\" font-color=\"black\">2</text><text y=\"367\" x=\"0\" font-size=\"24\" font-color=\"black\">1</text></svg> <svg x=\"20\" y=\"20\" height=\"380\" width=\"380\" > <rect x=\"0\" y=\"0\" width=\"360\" height=\"360\" fill=\"#B4927A\" />        <line x1=\"20\" y1=\"20\" x2=\"20\" y2=\"340\" stroke-width=\"4\" stroke=\"black\"/>        <line x1=\"340\" y1=\"20\" x2=\"20\" y2=\"20\" stroke-width=\"4\" stroke=\"black\"/>        <line x1=\"340\" y1=\"340\" x2=\"340\" y2=\"20\" stroke-width=\"4\" stroke=\"black\"/>        <line x1=\"20\" y1=\"340\" x2=\"340\" y2=\"340\" stroke-width=\"4\" stroke=\"black\"/><line x1=\"166.66666666666666\" y1=\"180\" x2=\"193.33333333333334\" y2=\"180\" stroke-width=\"3\" stroke=\"black\" /><line x1=\"180\" y1=\"166.66666666666666\" x2=\"180\" y2=\"193.33333333333334\" stroke-width=\"3\" stroke=\"black\" /><line x1=\"86.66666666666667\" y1=\"100\" x2=\"113.33333333333333\" y2=\"100\" stroke-width=\"3\" stroke=\"black\" /><line x1=\"100\" y1=\"86.66666666666667\" x2=\"100\" y2=\"113.33333333333333\" stroke-width=\"3\" stroke=\"black\" /><line x1=\"246.66666666666666\" y1=\"260\" x2=\"273.3333333333333\" y2=\"260\" stroke-width=\"3\" stroke=\"black\" /><line x1=\"260\" y1=\"246.66666666666666\" x2=\"260\" y2=\"273.3333333333333\" stroke-width=\"3\" stroke=\"black\" /><line x1=\"86.66666666666667\" y1=\"260\" x2=\"113.33333333333333\" y2=\"260\" stroke-width=\"3\" stroke=\"black\" /><line x1=\"100\" y1=\"246.66666666666666\" x2=\"100\" y2=\"273.3333333333333\" stroke-width=\"3\" stroke=\"black\" /><line x1=\"246.66666666666666\" y1=\"100\" x2=\"273.3333333333333\" y2=\"100\" stroke-width=\"3\" stroke=\"black\" /><line x1=\"260\" y1=\"86.66666666666667\" x2=\"260\" y2=\"113.33333333333333\" stroke-width=\"3\" stroke=\"black\" /><line x1=\"60\" y1=\"20\" x2=\"60\" y2=\"340\" stroke-width=\"2\" stroke=\"#444444\"/><line y1=\"60\" x1=\"20\" y2=\"60\" x2=\"340\" stroke-width=\"2\" stroke=\"#444444\"/><line x1=\"100\" y1=\"20\" x2=\"100\" y2=\"340\" stroke-width=\"2\" stroke=\"#444444\"/><line y1=\"100\" x1=\"20\" y2=\"100\" x2=\"340\" stroke-width=\"2\" stroke=\"#444444\"/><line x1=\"140\" y1=\"20\" x2=\"140\" y2=\"340\" stroke-width=\"2\" stroke=\"#444444\"/><line y1=\"140\" x1=\"20\" y2=\"140\" x2=\"340\" stroke-width=\"2\" stroke=\"#444444\"/><line x1=\"180\" y1=\"20\" x2=\"180\" y2=\"340\" stroke-width=\"2\" stroke=\"#444444\"/><line y1=\"180\" x1=\"20\" y2=\"180\" x2=\"340\" stroke-width=\"2\" stroke=\"#444444\"/><line x1=\"220\" y1=\"20\" x2=\"220\" y2=\"340\" stroke-width=\"2\" stroke=\"#444444\"/><line y1=\"220\" x1=\"20\" y2=\"220\" x2=\"340\" stroke-width=\"2\" stroke=\"#444444\"/><line x1=\"260\" y1=\"20\" x2=\"260\" y2=\"340\" stroke-width=\"2\" stroke=\"#444444\"/><line y1=\"260\" x1=\"20\" y2=\"260\" x2=\"340\" stroke-width=\"2\" stroke=\"#444444\"/><line x1=\"300\" y1=\"20\" x2=\"300\" y2=\"340\" stroke-width=\"2\" stroke=\"#444444\"/><line y1=\"300\" x1=\"20\" y2=\"300\" x2=\"340\" stroke-width=\"2\" stroke=\"#444444\"/><circle cx=\"20\" cy=\"300\" r=\"16\" stroke=\"#333333\" stroke-width=\"3\" fill=\"black\" /><circle cx=\"20\" cy=\"220\" r=\"16\" stroke=\"#333333\" stroke-width=\"3\" fill=\"black\" /><circle cx=\"20\" cy=\"140\" r=\"16\" stroke=\"#333333\" stroke-width=\"3\" fill=\"black\" /><circle cx=\"20\" cy=\"60\" r=\"16\" stroke=\"#333333\" stroke-width=\"3\" fill=\"black\" /><circle cx=\"20\" cy=\"20\" r=\"16\" stroke=\"#333333\" stroke-width=\"3\" fill=\"black\" /><circle cx=\"60\" cy=\"340\" r=\"16\" stroke=\"#333333\" stroke-width=\"3\" fill=\"black\" /><circle cx=\"60\" cy=\"260\" r=\"16\" stroke=\"#333333\" stroke-width=\"3\" fill=\"black\" /><circle cx=\"60\" cy=\"220\" r=\"16\" stroke=\"#333333\" stroke-width=\"3\" fill=\"black\" /><circle cx=\"60\" cy=\"180\" r=\"16\" stroke=\"#333333\" stroke-width=\"3\" fill=\"black\" /><circle cx=\"60\" cy=\"140\" r=\"16\" stroke=\"#333333\" stroke-width=\"3\" fill=\"black\" /><circle cx=\"60\" cy=\"100\" r=\"16\" stroke=\"#333333\" stroke-width=\"3\" fill=\"black\" /><circle cx=\"60\" cy=\"60\" r=\"16\" stroke=\"#333333\" stroke-width=\"3\" fill=\"black\" /><circle cx=\"100\" cy=\"340\" r=\"16\" stroke=\"#333333\" stroke-width=\"3\" fill=\"black\" /><circle cx=\"100\" cy=\"300\" r=\"16\" stroke=\"#333333\" stroke-width=\"3\" fill=\"black\" /><circle cx=\"100\" cy=\"220\" r=\"16\" stroke=\"#333333\" stroke-width=\"3\" fill=\"black\" /><circle cx=\"100\" cy=\"180\" r=\"16\" stroke=\"#333333\" stroke-width=\"3\" fill=\"black\" /><circle cx=\"100\" cy=\"140\" r=\"16\" stroke=\"#333333\" stroke-width=\"3\" fill=\"black\" /><circle cx=\"100\" cy=\"100\" r=\"16\" stroke=\"#333333\" stroke-width=\"3\" fill=\"black\" /><circle cx=\"100\" cy=\"60\" r=\"16\" stroke=\"#333333\" stroke-width=\"3\" fill=\"black\" /><circle cx=\"100\" cy=\"20\" r=\"16\" stroke=\"#333333\" stroke-width=\"3\" fill=\"black\" /><circle cx=\"140\" cy=\"340\" r=\"16\" stroke=\"#333333\" stroke-width=\"3\" fill=\"black\" /><circle cx=\"140\" cy=\"260\" r=\"16\" stroke=\"#333333\" stroke-width=\"3\" fill=\"black\" /><circle cx=\"140\" cy=\"220\" r=\"16\" stroke=\"#333333\" stroke-width=\"3\" fill=\"black\" /><circle cx=\"140\" cy=\"180\" r=\"16\" stroke=\"#333333\" stroke-width=\"3\" fill=\"black\" /><circle cx=\"140\" cy=\"140\" r=\"16\" stroke=\"#333333\" stroke-width=\"3\" fill=\"black\" /><circle cx=\"140\" cy=\"100\" r=\"16\" stroke=\"#333333\" stroke-width=\"3\" fill=\"black\" /><circle cx=\"140\" cy=\"60\" r=\"16\" stroke=\"#333333\" stroke-width=\"3\" fill=\"black\" /><circle cx=\"180\" cy=\"300\" r=\"16\" stroke=\"#333333\" stroke-width=\"3\" fill=\"black\" /><circle cx=\"180\" cy=\"260\" r=\"16\" stroke=\"#333333\" stroke-width=\"3\" fill=\"black\" /><circle cx=\"180\" cy=\"220\" r=\"16\" stroke=\"#333333\" stroke-width=\"3\" fill=\"black\" /><circle cx=\"180\" cy=\"180\" r=\"16\" stroke=\"#333333\" stroke-width=\"3\" fill=\"black\" /><circle cx=\"180\" cy=\"140\" r=\"16\" stroke=\"#333333\" stroke-width=\"3\" fill=\"black\" /><circle cx=\"180\" cy=\"100\" r=\"16\" stroke=\"#333333\" stroke-width=\"3\" fill=\"black\" /><circle cx=\"180\" cy=\"60\" r=\"16\" stroke=\"#333333\" stroke-width=\"3\" fill=\"black\" /><circle cx=\"180\" cy=\"20\" r=\"16\" stroke=\"#333333\" stroke-width=\"3\" fill=\"black\" /><circle cx=\"220\" cy=\"340\" r=\"16\" stroke=\"#333333\" stroke-width=\"3\" fill=\"black\" /><circle cx=\"220\" cy=\"300\" r=\"16\" stroke=\"#333333\" stroke-width=\"3\" fill=\"black\" /><circle cx=\"220\" cy=\"260\" r=\"16\" stroke=\"#333333\" stroke-width=\"3\" fill=\"black\" /><circle cx=\"220\" cy=\"220\" r=\"16\" stroke=\"#333333\" stroke-width=\"3\" fill=\"black\" /><circle cx=\"220\" cy=\"180\" r=\"16\" stroke=\"#333333\" stroke-width=\"3\" fill=\"black\" /><circle cx=\"220\" cy=\"140\" r=\"16\" stroke=\"#333333\" stroke-width=\"3\" fill=\"black\" /><circle cx=\"220\" cy=\"100\" r=\"16\" stroke=\"#333333\" stroke-width=\"3\" fill=\"black\" /><circle cx=\"220\" cy=\"60\" r=\"16\" stroke=\"#333333\" stroke-width=\"3\" fill=\"black\" /><circle cx=\"220\" cy=\"20\" r=\"16\" stroke=\"#333333\" stroke-width=\"3\" fill=\"black\" /><circle cx=\"260\" cy=\"300\" r=\"16\" stroke=\"#333333\" stroke-width=\"3\" fill=\"black\" /><circle cx=\"260\" cy=\"260\" r=\"16\" stroke=\"#333333\" stroke-width=\"3\" fill=\"black\" /><circle cx=\"260\" cy=\"220\" r=\"16\" stroke=\"#333333\" stroke-width=\"3\" fill=\"black\" /><circle cx=\"260\" cy=\"180\" r=\"16\" stroke=\"#333333\" stroke-width=\"3\" fill=\"black\" /><circle cx=\"260\" cy=\"140\" r=\"16\" stroke=\"#333333\" stroke-width=\"3\" fill=\"black\" /><circle cx=\"260\" cy=\"100\" r=\"16\" stroke=\"#333333\" stroke-width=\"3\" fill=\"black\" /><circle cx=\"260\" cy=\"60\" r=\"16\" stroke=\"#333333\" stroke-width=\"3\" fill=\"black\" /><circle cx=\"260\" cy=\"20\" r=\"16\" stroke=\"#333333\" stroke-width=\"3\" fill=\"black\" /><circle cx=\"300\" cy=\"340\" r=\"16\" stroke=\"#333333\" stroke-width=\"3\" fill=\"black\" /><circle cx=\"300\" cy=\"300\" r=\"16\" stroke=\"#333333\" stroke-width=\"3\" fill=\"black\" /><circle cx=\"300\" cy=\"260\" r=\"16\" stroke=\"#333333\" stroke-width=\"3\" fill=\"black\" /><circle cx=\"300\" cy=\"220\" r=\"16\" stroke=\"#333333\" stroke-width=\"3\" fill=\"black\" /><circle cx=\"300\" cy=\"180\" r=\"16\" stroke=\"#333333\" stroke-width=\"3\" fill=\"black\" /><circle cx=\"300\" cy=\"140\" r=\"16\" stroke=\"#333333\" stroke-width=\"3\" fill=\"black\" /><circle cx=\"300\" cy=\"100\" r=\"16\" stroke=\"#333333\" stroke-width=\"3\" fill=\"black\" /><circle cx=\"300\" cy=\"60\" r=\"16\" stroke=\"#333333\" stroke-width=\"3\" fill=\"black\" /><circle cx=\"340\" cy=\"340\" r=\"16\" stroke=\"#333333\" stroke-width=\"3\" fill=\"black\" /><circle cx=\"340\" cy=\"300\" r=\"16\" stroke=\"#333333\" stroke-width=\"3\" fill=\"black\" /><circle cx=\"340\" cy=\"220\" r=\"16\" stroke=\"#333333\" stroke-width=\"3\" fill=\"black\" /><circle cx=\"340\" cy=\"180\" r=\"16\" stroke=\"#333333\" stroke-width=\"3\" fill=\"black\" /><circle cx=\"340\" cy=\"100\" r=\"16\" stroke=\"#333333\" stroke-width=\"3\" fill=\"black\" /><circle cx=\"340\" cy=\"60\" r=\"16\" stroke=\"#333333\" stroke-width=\"3\" fill=\"black\" /><circle cx=\"340\" cy=\"20\" r=\"16\" stroke=\"#333333\" stroke-width=\"3\" fill=\"black\" /></svg></svg>"
     },
     "metadata": {}
    },
    {
     "output_type": "stream",
     "name": "stdout",
     "text": [
      "Legal Moves:  ['A3', 'C3', 'E1', 'J3', 'A1', 'G1', 'A5', 'B2', 'J6', 'A7', 'D2', 'D9', 'B9', 'H9', 'PASS']\n",
      "\n",
      "Player  1 l7wat plays: PASS\n",
      "Opponent played  PASS i.e.  PASS\n",
      "The game is over\n",
      "\n",
      "To Move:  white\n",
      "Last player has passed:  yes\n",
      "\n",
      "     WHITE (O) has captured 0 stones\n",
      "     BLACK (X) has captured 55 stones\n",
      "\n",
      "     WHITE (O) has 0 stones\n",
      "     BLACK (X) has 67 stones\n",
      "\n",
      "    A B C D E F G H J\n",
      "  9 X . X . X X X . X 9\n",
      "  8 X X X X X X X X X 8\n",
      "  7 . X X X X X X X X 7\n",
      "  6 X X X X X X X X . 6\n",
      "  5 . X X X X X X X X 5\n",
      "  4 X X X X X X X X X 4\n",
      "  3 . X + X X X X X . 3\n",
      "  2 X . X . X X X X X 2\n",
      "  1 . X X X . X . X X 1\n",
      "    A B C D E F G H J\n",
      "hash =  4698372260362868656\n",
      "Time: [49.47056531906128, 0.4255187511444092]\n",
      "GO Score: B+81\n",
      "Winner: BLACK\n"
     ]
    }
   ],
   "source": [
    "coup = 1\n",
    "while not b.is_game_over():\n",
    "    print(\"Referee Board:\")\n",
    "    clear_output(wait=True)\n",
    "    display(HTML(b.svg()))\n",
    "    #Uncomment this for saving all the PNG images\n",
    "    #svg2png(bytestring=b.svg(),write_to='output-'+str(coup).zfill(4)+'.png')\n",
    "    legals = b.legal_moves() # legal moves are given as internal (flat) coordinates, not A1, A2, ...\n",
    "\n",
    "    print(\"Legal Moves: \", [b.move_to_str(m) for m in legals]) # I have to use this wrapper if I want to print them\n",
    "    nbmoves += 1\n",
    "    otherplayer = (nextplayer + 1) % 2\n",
    "    othercolor = Goban.Board.flip(nextplayercolor)\n",
    "    \n",
    "    currentTime = time.time()\n",
    "    sys.stdout = stringio\n",
    "    move = players[nextplayer].getPlayerMove() # The move must be given by \"A1\", ... \"J8\" string coordinates (not as an internal move)\n",
    "    sys.stdout = sysstdout\n",
    "    playeroutput = stringio.getvalue()\n",
    "    stringio.truncate(0)\n",
    "    stringio.seek(0)\n",
    "    print((\"[Player \"+str(nextplayer) + \"] \").join(playeroutput.splitlines(True)))\n",
    "    outputs[nextplayer] += playeroutput\n",
    "    totalTime[nextplayer] += time.time() - currentTime\n",
    "    print(\"Player \", nextplayercolor, players[nextplayer].getPlayerName(), \"plays: \" + move) #changed \n",
    "\n",
    "    if not Goban.Board.name_to_flat(move) in legals:\n",
    "        print(otherplayer, nextplayer, nextplayercolor)\n",
    "        print(\"Problem: illegal move\")\n",
    "        wrongmovefrom = nextplayercolor\n",
    "        break\n",
    "    b.push(Goban.Board.name_to_flat(move)) # Here I have to internally flatten the move to be able to check it.\n",
    "    players[otherplayer].playOpponentMove(move)\n",
    " \n",
    "    nextplayer = otherplayer\n",
    "    nextplayercolor = othercolor\n",
    "    time.sleep(0.1)\n",
    "    coup += 1\n",
    "\n",
    "print(\"The game is over\")\n",
    "b.prettyPrint()\n",
    "result = b.result()\n",
    "print(\"Time:\", totalTime)\n",
    "print(\"GO Score:\", b.final_go_score())\n",
    "print(\"Winner: \", end=\"\")\n",
    "if wrongmovefrom > 0:\n",
    "    if wrongmovefrom == b._WHITE:\n",
    "        print(\"BLACK\")\n",
    "    elif wrongmovefrom == b._BLACK:\n",
    "        print(\"WHITE\")\n",
    "    else:\n",
    "        print(\"ERROR\")\n",
    "elif result == \"1-0\":\n",
    "    print(\"WHITE\")\n",
    "elif result == \"0-1\":\n",
    "    print(\"BLACK\")\n",
    "else:\n",
    "    print(\"DEUCE\")\n",
    "\n",
    "# To convert png files to animated gif    \n",
    "# convert -delay 10 -loop 0 *.png -background white -alpha remove -alpha off output.gif\n",
    "\n"
   ]
  },
  {
   "cell_type": "code",
   "execution_count": null,
   "metadata": {},
   "outputs": [],
   "source": []
  }
 ],
 "metadata": {
  "kernelspec": {
   "name": "python385jvsc74a57bd0916dbcbb3f70747c44a77c7bcd40155683ae19c65e1c03b4aa3499c5328201f1",
   "display_name": "Python 3.8.5 64-bit"
  },
  "language_info": {
   "codemirror_mode": {
    "name": "ipython",
    "version": 3
   },
   "file_extension": ".py",
   "mimetype": "text/x-python",
   "name": "python",
   "nbconvert_exporter": "python",
   "pygments_lexer": "ipython3",
   "version": "3.8.5"
  },
  "metadata": {
   "interpreter": {
    "hash": "916dbcbb3f70747c44a77c7bcd40155683ae19c65e1c03b4aa3499c5328201f1"
   }
  }
 },
 "nbformat": 4,
 "nbformat_minor": 2
}